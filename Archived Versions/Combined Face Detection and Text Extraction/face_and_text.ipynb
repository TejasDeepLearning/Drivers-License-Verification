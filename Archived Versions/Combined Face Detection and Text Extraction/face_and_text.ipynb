{
 "cells": [
  {
   "cell_type": "code",
   "execution_count": 1,
   "id": "348b4fd9",
   "metadata": {},
   "outputs": [],
   "source": [
    "import os\n",
    "import pytesseract\n",
    "from PIL import Image\n",
    "import pathlib"
   ]
  },
  {
   "cell_type": "code",
   "execution_count": 16,
   "id": "0b1bc105",
   "metadata": {
    "scrolled": true
   },
   "outputs": [
    {
     "name": "stdout",
     "output_type": "stream",
     "text": [
      "Please enter the file path (Remove quotation marks at the beginning and at the end): C:\\Users\\tejas\\Documents\\ML\\document_verification_project\\Testing Images\\india-driving-license-150x1501.jpg\n"
     ]
    }
   ],
   "source": [
    "document_path = str(input('Please enter the file path (Remove quotation marks at the beginning and at the end): '))"
   ]
  },
  {
   "cell_type": "code",
   "execution_count": 12,
   "id": "029e6b66",
   "metadata": {},
   "outputs": [],
   "source": [
    "def face_input():\n",
    "    face_input = os.system(f'cmd /c \"python face_detect.py \"{document_path}\" haarcascade_frontalface_default.xml\"')\n",
    "    return face_input"
   ]
  },
  {
   "cell_type": "code",
   "execution_count": 13,
   "id": "bbbfe557",
   "metadata": {},
   "outputs": [],
   "source": [
    "def text_analysis():\n",
    "    text = pytesseract.image_to_string(Image.open(pathlib.Path(document_path)))\n",
    "    print(text)"
   ]
  },
  {
   "cell_type": "code",
   "execution_count": 17,
   "id": "9b9d5acb",
   "metadata": {},
   "outputs": [
    {
     "data": {
      "text/plain": [
       "0"
      ]
     },
     "execution_count": 17,
     "metadata": {},
     "output_type": "execute_result"
    }
   ],
   "source": [
    "face_input()"
   ]
  },
  {
   "cell_type": "code",
   "execution_count": 18,
   "id": "b1cbe1be",
   "metadata": {},
   "outputs": [
    {
     "name": "stdout",
     "output_type": "stream",
     "text": [
      "BmOFwS TO, KARNATAKA STATE\n",
      "\n",
      "INDIAN UNION MOTOR DRIVING LICENCE\n",
      "\n",
      "\n"
     ]
    }
   ],
   "source": [
    "text_analysis()"
   ]
  }
 ],
 "metadata": {
  "kernelspec": {
   "display_name": "Python 3 (ipykernel)",
   "language": "python",
   "name": "python3"
  },
  "language_info": {
   "codemirror_mode": {
    "name": "ipython",
    "version": 3
   },
   "file_extension": ".py",
   "mimetype": "text/x-python",
   "name": "python",
   "nbconvert_exporter": "python",
   "pygments_lexer": "ipython3",
   "version": "3.9.7"
  }
 },
 "nbformat": 4,
 "nbformat_minor": 5
}
