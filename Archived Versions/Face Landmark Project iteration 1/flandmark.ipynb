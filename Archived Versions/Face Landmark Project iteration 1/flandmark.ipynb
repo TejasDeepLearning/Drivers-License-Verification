{
 "cells": [
  {
   "cell_type": "code",
   "execution_count": 3,
   "id": "b9359955",
   "metadata": {},
   "outputs": [],
   "source": [
    "import cv2\n",
    "import dlib\n",
    "import numpy as np"
   ]
  },
  {
   "cell_type": "code",
   "execution_count": 6,
   "id": "12668cc1",
   "metadata": {},
   "outputs": [],
   "source": [
    "detector = dlib.get_frontal_face_detector()\n",
    "predictor = dlib.shape_predictor('shape_predictor_68_face_landmarks.dat')\n",
    "cap = cv2.VideoCapture(0)"
   ]
  },
  {
   "cell_type": "code",
   "execution_count": 11,
   "id": "90f7a502",
   "metadata": {},
   "outputs": [],
   "source": [
    "import imageio as iio\n",
    " \n",
    "# read an image\n",
    "img = iio.imread('wVxL4HresVK8zM8qoVsUN4.jpg')\n",
    "\n",
    "# write it in a new format\n",
    "iio.imwrite(\"wVxL4HresVK8zM8qoVsUN4.jpg\", img)"
   ]
  },
  {
   "cell_type": "code",
   "execution_count": 9,
   "id": "5e135bec",
   "metadata": {},
   "outputs": [
    {
     "ename": "ValueError",
     "evalue": "could not convert string to float: 'wVxL4HresVK8zM8qoVsUN4.jpg'",
     "output_type": "error",
     "traceback": [
      "\u001b[1;31m---------------------------------------------------------------------------\u001b[0m",
      "\u001b[1;31mValueError\u001b[0m                                Traceback (most recent call last)",
      "Input \u001b[1;32mIn [9]\u001b[0m, in \u001b[0;36m<cell line: 3>\u001b[1;34m()\u001b[0m\n\u001b[0;32m      3\u001b[0m image \u001b[38;5;241m=\u001b[39m \u001b[38;5;124m'\u001b[39m\u001b[38;5;124mwVxL4HresVK8zM8qoVsUN4.jpg\u001b[39m\u001b[38;5;124m'\u001b[39m\n\u001b[0;32m      4\u001b[0m \u001b[38;5;66;03m# Convert the image color to grayscale\u001b[39;00m\n\u001b[1;32m----> 5\u001b[0m gray \u001b[38;5;241m=\u001b[39m cv2\u001b[38;5;241m.\u001b[39mcvtColor(\u001b[43mnp\u001b[49m\u001b[38;5;241;43m.\u001b[39;49m\u001b[43mfloat32\u001b[49m\u001b[43m(\u001b[49m\u001b[43mimage\u001b[49m\u001b[43m)\u001b[49m, cv2\u001b[38;5;241m.\u001b[39mCOLOR_BGR2GRAY)\n\u001b[0;32m      6\u001b[0m \u001b[38;5;66;03m# Detect the face\u001b[39;00m\n\u001b[0;32m      7\u001b[0m rects \u001b[38;5;241m=\u001b[39m detector(gray, \u001b[38;5;241m1\u001b[39m)\n",
      "\u001b[1;31mValueError\u001b[0m: could not convert string to float: 'wVxL4HresVK8zM8qoVsUN4.jpg'"
     ]
    }
   ],
   "source": [
    "while True:\n",
    "    # Capture the image\n",
    "    image = 'wVxL4HresVK8zM8qoVsUN4.jpg'\n",
    "    # Convert the image color to grayscale\n",
    "    gray = cv2.cvtColor(np.float32(image), cv2.COLOR_BGR2GRAY)\n",
    "    # Detect the face\n",
    "    rects = detector(gray, 1)\n",
    "    # Detect landmarks for each face\n",
    "    for rect in rects:\n",
    "        # Get the landmark points\n",
    "        shape = predictor(gray, rect)\n",
    "\t# Convert it to the NumPy Array\n",
    "        shape_np = np.zeros((68, 2), dtype=\"int\")\n",
    "        for i in range(0, 68):\n",
    "            shape_np[i] = (shape.part(i).x, shape.part(i).y)\n",
    "        shape = shape_np\n",
    "\n",
    "        # Display the landmarks\n",
    "        for i, (x, y) in enumerate(shape):\n",
    "\t    # Draw the circle to mark the keypoint \n",
    "            cv2.circle(image, (x, y), 1, (0, 0, 255), -1)\n",
    "\t\t\n",
    "    # Display the image\n",
    "    cv2.imshow('Landmark Detection', image)\n",
    "\n",
    "    # Press the escape button to terminate the code\n",
    "    if cv2.waitKey(10) == 27:\n",
    "        break\n",
    "\n"
   ]
  }
 ],
 "metadata": {
  "kernelspec": {
   "display_name": "Python 3 (ipykernel)",
   "language": "python",
   "name": "python3"
  },
  "language_info": {
   "codemirror_mode": {
    "name": "ipython",
    "version": 3
   },
   "file_extension": ".py",
   "mimetype": "text/x-python",
   "name": "python",
   "nbconvert_exporter": "python",
   "pygments_lexer": "ipython3",
   "version": "3.9.7"
  }
 },
 "nbformat": 4,
 "nbformat_minor": 5
}
