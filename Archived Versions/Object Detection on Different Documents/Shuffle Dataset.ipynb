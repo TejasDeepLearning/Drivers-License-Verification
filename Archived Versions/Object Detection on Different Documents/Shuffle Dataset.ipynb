{
 "cells": [
  {
   "cell_type": "code",
   "execution_count": 2,
   "id": "554512a0",
   "metadata": {},
   "outputs": [],
   "source": [
    "import os\n",
    "from random import shuffle\n",
    "\n",
    "pth = r\"C:\\Users\\tejas\\Documents\\ML\\document_verification_project\\Document Image Dataset\"\n",
    "files = [os.path.join(pth,fle) for fle in os.listdir(pth) if fle.endswith(\".jpg\")]\n",
    "shuffle(files)"
   ]
  }
 ],
 "metadata": {
  "kernelspec": {
   "display_name": "Python 3 (ipykernel)",
   "language": "python",
   "name": "python3"
  },
  "language_info": {
   "codemirror_mode": {
    "name": "ipython",
    "version": 3
   },
   "file_extension": ".py",
   "mimetype": "text/x-python",
   "name": "python",
   "nbconvert_exporter": "python",
   "pygments_lexer": "ipython3",
   "version": "3.9.7"
  }
 },
 "nbformat": 4,
 "nbformat_minor": 5
}
